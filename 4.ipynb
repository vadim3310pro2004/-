{
  "cells": [
    {
      "cell_type": "code",
      "source": [
        "\n",
        "from numpy import random\n",
        "from typing import Iterable\n",
        "\n",
        "#* Створіть прямокутну матрицю A, яка має N рядків і стовпці M з випадковими елементами. \n",
        "#* Визначте, скільки негативних елементів міститься в кожному стовпці та в кожному рядку матриці.\n",
        "\n",
        "N, M = 3, 3\n",
        "\n",
        "matrix = random.randint(-10, 10, (N, M))\n",
        "print(f'матриця: \\n{matrix}')\n",
        "\n",
        "\n",
        "def count_negative_numbers(lst: Iterable[Iterable]):\n",
        "    negatives_numbers_in_rows = []\n",
        "\n",
        "    for row in matrix:\n",
        "        counter = 0\n",
        "\n",
        "        for item in row:\n",
        "            if item < 0:\n",
        "                counter += 1\n",
        "\n",
        "        negatives_numbers_in_rows.append(counter)\n",
        "    \n",
        "    return negatives_numbers_in_rows\n",
        "\n",
        "\n",
        "resoult = count_negative_numbers(matrix)\n",
        "for i in range(len(resoult)):\n",
        "    print(f\"{i+1} рядок: {resoult[i]} від'ємних чисел\")"
      ],
      "outputs": [
        {
          "output_type": "stream",
          "name": "stdout",
          "text": "матриця: \n[[-10  -1  -3]\n [ -6  -3   5]\n [ -4  -8   8]]\n1 рядок: 3 від'ємних чисел\n2 рядок: 2 від'ємних чисел\n3 рядок: 2 від'ємних чисел\n"
        }
      ],
      "execution_count": 1,
      "metadata": {}
    },
    {
      "cell_type": "code",
      "source": [],
      "outputs": [],
      "execution_count": null,
      "metadata": {}
    }
  ],
  "metadata": {
    "kernelspec": {
      "name": "python",
      "language": "python",
      "display_name": "Pyolite (preview)"
    },
    "language_info": {
      "codemirror_mode": {
        "name": "python",
        "version": 3
      },
      "file_extension": ".py",
      "mimetype": "text/x-python",
      "name": "python",
      "nbconvert_exporter": "python",
      "pygments_lexer": "ipython3",
      "version": "3.8"
    },
    "kernel_info": {
      "name": "python"
    },
    "nteract": {
      "version": "nteract-front-end@1.0.0"
    }
  },
  "nbformat": 4,
  "nbformat_minor": 2
}